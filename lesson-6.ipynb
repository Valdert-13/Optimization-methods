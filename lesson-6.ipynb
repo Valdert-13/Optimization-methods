{
 "cells": [
  {
   "cell_type": "markdown",
   "metadata": {},
   "source": [
    "Практическое задание\n",
    "\n",
    "Для выполнения работ P_1, P_2, P_3 сельскохозяйственное предприятие может приобрести тракторы марок А и B стоимостью соответственно c_1 и c_2 ден. ед. каждый. С использованием новой техники необходимо выполнить не менее b_1 условных единиц работы P_1 не менее b_2 условных единиц работы P_2 и не менее b_3 условных единиц работы P_3. За рассматриваемый промежуток времени с использованием трактора марки A можно выполнить a_11 условных единиц работы P_1, a_21 условных единиц работы P_2 и a_31 условных единиц работы P_3; с использованием трактора марки Б – a_12 условных единиц работы P_1, a_22 условных единиц работы P_2 и a_23 условных единиц работы P_3.\n",
    "\n",
    "Требуется:\n",
    "\n",
    "Составить экономико-математическую модель, позволяющую найти такой вариант приобретения тракторов той или другой марки, при котором будут выполнены все необходимые работы, а затраты на новую технику будут минимальны;\n",
    "Пользуясь методом ветвей и границ, найти оптимальный вариант приобретения тракторов.\n",
    "\n",
    "b_1 = 20, b_2 = 190, b_3 = 88, a_11 = 4, a_21 = 19, a_31=4, a_12 = 1, a_22 = 15, a_32 = 15, c_1= 3, c_2 = 5"
   ]
  },
  {
   "cell_type": "code",
   "execution_count": 1,
   "metadata": {},
   "outputs": [],
   "source": [
    "b_1 = 20 \n",
    "b_2 = 190 \n",
    "b_3 = 88 \n",
    "\n",
    "a_11 = 4 \n",
    "a_21 = 19 \n",
    "a_31=4 \n",
    "\n",
    "a_12 = 1 \n",
    "a_22 = 15 \n",
    "a_32 = 15\n",
    "\n",
    "c_1= 3 \n",
    "c_2 = 5\n",
    "\n",
    "# А - количество тракторов марки А\n",
    "# B - Количество тракторов марок В"
   ]
  },
  {
   "cell_type": "code",
   "execution_count": 2,
   "metadata": {},
   "outputs": [
    {
     "data": {
      "text/plain": [
       "'\\nc_1*A + c_2*B = min\\na_11*A + a_12*B >= b_1\\na_21*A + a_22*B >= b_2\\na_31*a + a_32*B >= b_3\\n\\n3*A + 5*B = min\\n4*A + 1*B >= 20\\n19*A + 15*B >= 190\\n4*A + 15*B >= 88\\n'"
      ]
     },
     "execution_count": 2,
     "metadata": {},
     "output_type": "execute_result"
    }
   ],
   "source": [
    "\"\"\"\n",
    "c_1*A + c_2*B = min\n",
    "a_11*A + a_12*B >= b_1\n",
    "a_21*A + a_22*B >= b_2\n",
    "a_31*a + a_32*B >= b_3\n",
    "\n",
    "3*A + 5*B = min\n",
    "4*A + 1*B >= 20\n",
    "19*A + 15*B >= 190\n",
    "4*A + 15*B >= 88\n",
    "\"\"\""
   ]
  },
  {
   "cell_type": "code",
   "execution_count": 3,
   "metadata": {},
   "outputs": [
    {
     "data": {
      "text/plain": [
       "(22.0, 20.0)"
      ]
     },
     "execution_count": 3,
     "metadata": {},
     "output_type": "execute_result"
    }
   ],
   "source": [
    "# Найдем максимально число тракторов для выполнения работ для каждой марки\n",
    "A_max  = max([20/4, 190 /19, 88/4])\n",
    "B_max  = max([20/1, 190 /15, 88/15])\n",
    "A_max, B_max"
   ]
  },
  {
   "cell_type": "code",
   "execution_count": 4,
   "metadata": {},
   "outputs": [],
   "source": [
    "# Округляем в большую сторону до ццелого\n",
    "A_max = 22\n",
    "B_max = 20"
   ]
  },
  {
   "cell_type": "code",
   "execution_count": 5,
   "metadata": {},
   "outputs": [
    {
     "name": "stdout",
     "output_type": "stream",
     "text": [
      "Для выполнения все работ, минимальный бюджет должен составить 41 денежную еденицу, необходимо преобрести 7 тракторов марки А и 4 тракторов марки В\n"
     ]
    }
   ],
   "source": [
    "A_list = [i for i in range(0, A_max)]\n",
    "B_list = [i for i in range(0, B_max)]\n",
    "A = 0\n",
    "B = 0\n",
    "cost = 10000\n",
    "for a in A_list:\n",
    "    for b in B_list:\n",
    "        if (a_11*a + a_12*b) >= 20 and (a_21*a + a_22*b) >= 190 and (a_31*a + a_32*b) >= 88:\n",
    "            if cost > (a*c_1 + b*c_2):\n",
    "                cost = a*c_1 + b*c_2\n",
    "                A = a\n",
    "                B = b\n",
    "print(f'Для выполнения все работ, минимальный бюджет должен составить {cost} денежную еденицу, необходимо преобрести {A} тракторов марки А и {B} тракторов марки В')"
   ]
  },
  {
   "cell_type": "code",
   "execution_count": 6,
   "metadata": {},
   "outputs": [
    {
     "data": {
      "text/plain": [
       "(41, 7, 4)"
      ]
     },
     "execution_count": 6,
     "metadata": {},
     "output_type": "execute_result"
    }
   ],
   "source": [
    "cost, A, B"
   ]
  },
  {
   "cell_type": "code",
   "execution_count": null,
   "metadata": {},
   "outputs": [],
   "source": []
  }
 ],
 "metadata": {
  "kernelspec": {
   "display_name": "Python 3",
   "language": "python",
   "name": "python3"
  },
  "language_info": {
   "codemirror_mode": {
    "name": "ipython",
    "version": 3
   },
   "file_extension": ".py",
   "mimetype": "text/x-python",
   "name": "python",
   "nbconvert_exporter": "python",
   "pygments_lexer": "ipython3",
   "version": "3.7.7"
  }
 },
 "nbformat": 4,
 "nbformat_minor": 4
}
